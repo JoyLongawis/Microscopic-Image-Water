{
  "nbformat": 4,
  "nbformat_minor": 0,
  "metadata": {
    "accelerator": "GPU",
    "colab": {
      "name": "EcoFilter.ipynb",
      "provenance": []
    },
    "kernelspec": {
      "display_name": "Python 3",
      "name": "python3"
    }
  },
  "cells": [
    {
      "cell_type": "code",
      "metadata": {
        "id": "UK5mE74T_MCg"
      },
      "source": [
        "import numpy as np\n",
        "from tensorflow import keras\n",
        "from tensorflow.keras import layers\n",
        "from keras.datasets import mnist\n",
        "from os import listdir\n",
        "from os.path import isfile, join\n",
        "from google.colab import files\n",
        "import numpy as np\n",
        "import pandas as pd\n",
        "import matplotlib.pyplot as plt\n",
        "from tensorflow import keras\n",
        "from matplotlib import pyplot\n",
        "from google.colab import drive\n",
        "import cv2\n",
        "from keras.utils import np_utils\n",
        "from keras.models import Sequential\n",
        "from keras.layers import Dense, Dropout , Input , Flatten , Conv2D , MaxPooling2D, BatchNormalization, Activation\n",
        "from keras.callbacks import EarlyStopping , ModelCheckpoint\n",
        "from keras.optimizers import Adam, SGD, RMSprop"
      ],
      "execution_count": null,
      "outputs": []
    },
    {
      "cell_type": "code",
      "metadata": {
        "colab": {
          "base_uri": "https://localhost:8080/"
        },
        "id": "9agb7ZnD7_pX",
        "outputId": "c67056ce-b1eb-4e45-d455-53db7ce10daa"
      },
      "source": [
        "from google.colab import drive\n",
        "drive.mount('/content/drive')"
      ],
      "execution_count": null,
      "outputs": [
        {
          "output_type": "stream",
          "text": [
            "Mounted at /content/drive\n"
          ],
          "name": "stdout"
        }
      ]
    },
    {
      "cell_type": "code",
      "metadata": {
        "id": "H0gWlOF97_sd"
      },
      "source": [
        "import cv2\n",
        "import os\n",
        "\n",
        "\n",
        "def load_images_from_folder(folder):\n",
        "    images = []\n",
        "    for filename in os.listdir(folder):\n",
        "        img = cv2.imread(os.path.join(folder,filename))\n",
        "        img = cv2.resize(img,(150,150))\n",
        "        #hsvim = cv2.cvtColor(img,cv2.COLOR_RGB2HSV)\n",
        "        if img is not None:\n",
        "            images.append(img)\n",
        "    return images"
      ],
      "execution_count": null,
      "outputs": []
    },
    {
      "cell_type": "code",
      "metadata": {
        "id": "7SdeazZE1AUb"
      },
      "source": [
        "def file_name(folder):\n",
        "  file_name = []\n",
        "  for filename in os.listdir(folder):\n",
        "    file_name.append(filename)\n",
        "  return file_name"
      ],
      "execution_count": null,
      "outputs": []
    },
    {
      "cell_type": "code",
      "metadata": {
        "id": "nSLdgbrp0lQc"
      },
      "source": [
        "Dirty0 = load_images_from_folder('drive/MyDrive/FW_DF')\n",
        "Clean0 = load_images_from_folder('drive/MyDrive/E.coli_HF_DF')\n",
        "Dirty1 = load_images_from_folder('drive/MyDrive/EColi_Optical Microscope (1000X)')\n",
        "Clean1 = load_images_from_folder('drive/MyDrive/Filtered Water (FW)')\n",
        "Dirty2 = load_images_from_folder('drive/MyDrive/EColi_Foldscope (140X)')\n",
        "Dirty3 = load_images_from_folder('drive/MyDrive/EColi_Optical Microscope (100X)')"
      ],
      "execution_count": null,
      "outputs": []
    },
    {
      "cell_type": "code",
      "metadata": {
        "id": "xSPfaBsj1Hgo"
      },
      "source": [
        "Dirty = Dirty0 + Dirty1 + Dirty2 + Dirty3\n",
        "Clean = Clean0 + Clean1"
      ],
      "execution_count": null,
      "outputs": []
    },
    {
      "cell_type": "code",
      "metadata": {
        "id": "eco08KqY7_vX"
      },
      "source": [
        "label0 = []\n",
        "for i in range(len(Dirty)):\n",
        "  label0.append(0)\n",
        "\n",
        "label1 = []\n",
        "for j in range(len(Clean)):\n",
        "  label1.append(1)"
      ],
      "execution_count": null,
      "outputs": []
    },
    {
      "cell_type": "code",
      "metadata": {
        "id": "-K9Fglom7_yG"
      },
      "source": [
        "dataset = Dirty + Clean\n",
        "label = label0 + label1\n",
        "#del Dirty\n",
        "#del Clean"
      ],
      "execution_count": null,
      "outputs": []
    },
    {
      "cell_type": "code",
      "metadata": {
        "id": "PUMJ9QsI7_0X"
      },
      "source": [
        "import random\n",
        "mapIndexPosition = list(zip(dataset, label))\n",
        "random.shuffle(mapIndexPosition)\n",
        "# make list separate\n",
        "dataset, label = zip(*mapIndexPosition)"
      ],
      "execution_count": null,
      "outputs": []
    },
    {
      "cell_type": "code",
      "metadata": {
        "colab": {
          "base_uri": "https://localhost:8080/"
        },
        "id": "tM5VX4c98I2T",
        "outputId": "ceddfa9e-bdb9-422c-dc37-1bbfda6c4461"
      },
      "source": [
        "input_shape = dataset[0].shape\n",
        "print(input_shape)"
      ],
      "execution_count": null,
      "outputs": [
        {
          "output_type": "stream",
          "text": [
            "(150, 150, 3)\n"
          ],
          "name": "stdout"
        }
      ]
    },
    {
      "cell_type": "code",
      "metadata": {
        "id": "mD5mjS9E8I5C"
      },
      "source": [
        "dataset = np.array(dataset)\n",
        "label = np.array(label)"
      ],
      "execution_count": null,
      "outputs": []
    },
    {
      "cell_type": "code",
      "metadata": {
        "id": "L81BN5b_Pc86"
      },
      "source": [
        "from sklearn.model_selection import train_test_split\n",
        "\n",
        "x_train, x_test, y_train, y_test = train_test_split(dataset, label, test_size=0.3)"
      ],
      "execution_count": null,
      "outputs": []
    },
    {
      "cell_type": "code",
      "metadata": {
        "id": "YdltSR0b8I76"
      },
      "source": [
        "x_train = x_train.astype('float32')\n",
        "x_test = x_test.astype('float32')"
      ],
      "execution_count": null,
      "outputs": []
    },
    {
      "cell_type": "code",
      "metadata": {
        "colab": {
          "base_uri": "https://localhost:8080/",
          "height": 52
        },
        "id": "HRSHeRUA8I-Z",
        "outputId": "c525ceaa-d758-4c81-eb6e-16b9ca32b4a3"
      },
      "source": [
        "'''mean = np.mean(x_train,axis=(0,1,2,3))\n",
        "std = np.std(x_train,axis=(0,1,2,3))\n",
        "x_train = (x_train-mean)/(std+1e-7)\n",
        "x_train = (x_train-mean)/(std+1e-7)'''"
      ],
      "execution_count": null,
      "outputs": [
        {
          "output_type": "execute_result",
          "data": {
            "application/vnd.google.colaboratory.intrinsic+json": {
              "type": "string"
            },
            "text/plain": [
              "'mean = np.mean(x_train,axis=(0,1,2,3))\\nstd = np.std(x_train,axis=(0,1,2,3))\\nx_train = (x_train-mean)/(std+1e-7)\\nx_train = (x_train-mean)/(std+1e-7)'"
            ]
          },
          "metadata": {
            "tags": []
          },
          "execution_count": 16
        }
      ]
    },
    {
      "cell_type": "code",
      "metadata": {
        "id": "m6iCMYt0PlKy"
      },
      "source": [
        "from keras.utils import to_categorical\n",
        "y_train = to_categorical(y_train)\n",
        "y_test = to_categorical(y_test)"
      ],
      "execution_count": null,
      "outputs": []
    },
    {
      "cell_type": "code",
      "metadata": {
        "id": "VDaSOjuD_VFi"
      },
      "source": [
        "num_classes = 2\n",
        "input_shape = (150, 150, 3)"
      ],
      "execution_count": null,
      "outputs": []
    },
    {
      "cell_type": "code",
      "metadata": {
        "colab": {
          "base_uri": "https://localhost:8080/"
        },
        "id": "yGk6QLaxN7Ca",
        "outputId": "9b6cafc2-73f8-4a8e-8530-3d26980f8c8c"
      },
      "source": [
        "x_train.shape"
      ],
      "execution_count": null,
      "outputs": [
        {
          "output_type": "execute_result",
          "data": {
            "text/plain": [
              "(695, 150, 150, 3)"
            ]
          },
          "metadata": {
            "tags": []
          },
          "execution_count": 19
        }
      ]
    },
    {
      "cell_type": "code",
      "metadata": {
        "colab": {
          "base_uri": "https://localhost:8080/"
        },
        "id": "8XHsNMEbNsOV",
        "outputId": "fc13402f-ed83-43c4-8383-af24e2601b8e"
      },
      "source": [
        "base_model = keras.applications.Xception(weights='imagenet',input_shape=(150, 150, 3),include_top=False)\n",
        "base_model.trainable = True\n",
        "# model_1\n",
        "model1_in = keras.Input(shape=input_shape)\n",
        "x = base_model(model1_in, training=True)\n",
        "x = layers.Conv2D(16,(2,2),padding='same', activation='relu')(model1_in)\n",
        "x = layers.Conv2D(16,(2,2), activation='relu')(x)\n",
        "x = layers.MaxPooling2D(pool_size=(2, 2))(x)\n",
        "x = layers.Dropout(0.01)(x)\n",
        "x = layers.Conv2D(32,(2,2),padding='same', activation='relu')(x)\n",
        "x = layers.Conv2D(32,(2,2), activation='relu')(x)\n",
        "x = layers.MaxPooling2D(pool_size=(2,2))(x)\n",
        "x = layers.Dropout(0.01)(x)\n",
        "x = layers.Conv2D(64,(2,2),padding='same', activation='relu')(x)\n",
        "x = layers.Conv2D(64,(2,2), activation='relu')(x)\n",
        "x = layers.MaxPooling2D(pool_size=(2,2))(x)\n",
        "x = layers.Dropout(0.01)(x)\n",
        "x = layers.Conv2D(128,(2,2),padding='same', activation='relu')(x)\n",
        "x = layers.Conv2D(128,(2,2), activation='relu')(x)\n",
        "x = layers.MaxPooling2D(pool_size=(2,2))(x)\n",
        "x = layers.Flatten()(x)\n",
        "x = layers.Dense(16, activation='relu')(x)\n",
        "x = layers.Dropout(0.01)(x)\n",
        "x = layers.Dense(8, activation='relu')(x)\n",
        "x = layers.Dropout(0.01)(x)\n",
        "x = layers.Dense(4, activation='relu')(x)\n",
        "x = layers.Dropout(0.01)(x)\n",
        "model1_out = layers.Dense(2, activation='sigmoid')(x)\n",
        "\n",
        "model = keras.Model(model1_in, model1_out)\n",
        "\n",
        "\n",
        "def lr_scheduler(epoch, lr):\n",
        "    decay_rate = 0.01\n",
        "    decay_step = 90\n",
        "    if epoch % decay_step == 0 and epoch:\n",
        "        return lr * decay_rate\n",
        "    return lr\n",
        "\n",
        "model.compile(loss='binary_crossentropy', optimizer=Adam(), metrics=['accuracy'])\n",
        "\n",
        "checkpoint = ModelCheckpoint('weights.h5', monitor='val_loss',save_best_only=True, verbose=2)\n",
        "early_stopping = EarlyStopping(monitor=\"val_loss\", patience=20)\n",
        "\n",
        "final = model.fit(x_train, y=y_train, batch_size=32, epochs=100,verbose=1,validation_split=0.2,callbacks=[early_stopping,keras.callbacks.LearningRateScheduler(lr_scheduler, verbose=1)])"
      ],
      "execution_count": null,
      "outputs": [
        {
          "output_type": "stream",
          "text": [
            "Downloading data from https://storage.googleapis.com/tensorflow/keras-applications/xception/xception_weights_tf_dim_ordering_tf_kernels_notop.h5\n",
            "83689472/83683744 [==============================] - 1s 0us/step\n",
            "Epoch 1/100\n",
            "\n",
            "Epoch 00001: LearningRateScheduler reducing learning rate to 0.0010000000474974513.\n",
            "18/18 [==============================] - 35s 83ms/step - loss: 0.7782 - accuracy: 0.5394 - val_loss: 0.6895 - val_accuracy: 0.7410\n",
            "Epoch 2/100\n",
            "\n",
            "Epoch 00002: LearningRateScheduler reducing learning rate to 0.0010000000474974513.\n",
            "18/18 [==============================] - 1s 34ms/step - loss: 0.6900 - accuracy: 0.6689 - val_loss: 0.6860 - val_accuracy: 0.7410\n",
            "Epoch 3/100\n",
            "\n",
            "Epoch 00003: LearningRateScheduler reducing learning rate to 0.0010000000474974513.\n",
            "18/18 [==============================] - 1s 33ms/step - loss: 0.6915 - accuracy: 0.6622 - val_loss: 0.6827 - val_accuracy: 0.7410\n",
            "Epoch 4/100\n",
            "\n",
            "Epoch 00004: LearningRateScheduler reducing learning rate to 0.0010000000474974513.\n",
            "18/18 [==============================] - 1s 33ms/step - loss: 0.6856 - accuracy: 0.6606 - val_loss: 0.6792 - val_accuracy: 0.7410\n",
            "Epoch 5/100\n",
            "\n",
            "Epoch 00005: LearningRateScheduler reducing learning rate to 0.0010000000474974513.\n",
            "18/18 [==============================] - 1s 34ms/step - loss: 0.6818 - accuracy: 0.6861 - val_loss: 0.6760 - val_accuracy: 0.7410\n",
            "Epoch 6/100\n",
            "\n",
            "Epoch 00006: LearningRateScheduler reducing learning rate to 0.0010000000474974513.\n",
            "18/18 [==============================] - 1s 33ms/step - loss: 0.6826 - accuracy: 0.6426 - val_loss: 0.6730 - val_accuracy: 0.7410\n",
            "Epoch 7/100\n",
            "\n",
            "Epoch 00007: LearningRateScheduler reducing learning rate to 0.0010000000474974513.\n",
            "18/18 [==============================] - 1s 34ms/step - loss: 0.6790 - accuracy: 0.6566 - val_loss: 0.6672 - val_accuracy: 0.7410\n",
            "Epoch 8/100\n",
            "\n",
            "Epoch 00008: LearningRateScheduler reducing learning rate to 0.0010000000474974513.\n",
            "18/18 [==============================] - 1s 34ms/step - loss: 0.6752 - accuracy: 0.6673 - val_loss: 0.6618 - val_accuracy: 0.7410\n",
            "Epoch 9/100\n",
            "\n",
            "Epoch 00009: LearningRateScheduler reducing learning rate to 0.0010000000474974513.\n",
            "18/18 [==============================] - 1s 33ms/step - loss: 0.6804 - accuracy: 0.6290 - val_loss: 0.6640 - val_accuracy: 0.7410\n",
            "Epoch 10/100\n",
            "\n",
            "Epoch 00010: LearningRateScheduler reducing learning rate to 0.0010000000474974513.\n",
            "18/18 [==============================] - 1s 34ms/step - loss: 0.6700 - accuracy: 0.6791 - val_loss: 0.6610 - val_accuracy: 0.7410\n",
            "Epoch 11/100\n",
            "\n",
            "Epoch 00011: LearningRateScheduler reducing learning rate to 0.0010000000474974513.\n",
            "18/18 [==============================] - 1s 34ms/step - loss: 0.6667 - accuracy: 0.6890 - val_loss: 0.6584 - val_accuracy: 0.7410\n",
            "Epoch 12/100\n",
            "\n",
            "Epoch 00012: LearningRateScheduler reducing learning rate to 0.0010000000474974513.\n",
            "18/18 [==============================] - 1s 35ms/step - loss: 0.6660 - accuracy: 0.6634 - val_loss: 0.6558 - val_accuracy: 0.7410\n",
            "Epoch 13/100\n",
            "\n",
            "Epoch 00013: LearningRateScheduler reducing learning rate to 0.0010000000474974513.\n",
            "18/18 [==============================] - 1s 34ms/step - loss: 0.8420 - accuracy: 0.6528 - val_loss: 0.6305 - val_accuracy: 0.7410\n",
            "Epoch 14/100\n",
            "\n",
            "Epoch 00014: LearningRateScheduler reducing learning rate to 0.0010000000474974513.\n",
            "18/18 [==============================] - 1s 34ms/step - loss: 0.6514 - accuracy: 0.6649 - val_loss: 0.6160 - val_accuracy: 0.7554\n",
            "Epoch 15/100\n",
            "\n",
            "Epoch 00015: LearningRateScheduler reducing learning rate to 0.0010000000474974513.\n",
            "18/18 [==============================] - 1s 34ms/step - loss: 0.6256 - accuracy: 0.6753 - val_loss: 0.4286 - val_accuracy: 0.7410\n",
            "Epoch 16/100\n",
            "\n",
            "Epoch 00016: LearningRateScheduler reducing learning rate to 0.0010000000474974513.\n",
            "18/18 [==============================] - 1s 34ms/step - loss: 0.5734 - accuracy: 0.6572 - val_loss: 0.3708 - val_accuracy: 0.8561\n",
            "Epoch 17/100\n",
            "\n",
            "Epoch 00017: LearningRateScheduler reducing learning rate to 0.0010000000474974513.\n",
            "18/18 [==============================] - 1s 34ms/step - loss: 0.4022 - accuracy: 0.7241 - val_loss: 0.0953 - val_accuracy: 0.9353\n",
            "Epoch 18/100\n",
            "\n",
            "Epoch 00018: LearningRateScheduler reducing learning rate to 0.0010000000474974513.\n",
            "18/18 [==============================] - 1s 34ms/step - loss: 0.2950 - accuracy: 0.8897 - val_loss: 0.1583 - val_accuracy: 0.9640\n",
            "Epoch 19/100\n",
            "\n",
            "Epoch 00019: LearningRateScheduler reducing learning rate to 0.0010000000474974513.\n",
            "18/18 [==============================] - 1s 34ms/step - loss: 0.2222 - accuracy: 0.9453 - val_loss: 0.1494 - val_accuracy: 0.9928\n",
            "Epoch 20/100\n",
            "\n",
            "Epoch 00020: LearningRateScheduler reducing learning rate to 0.0010000000474974513.\n",
            "18/18 [==============================] - 1s 34ms/step - loss: 0.1780 - accuracy: 0.9503 - val_loss: 0.2263 - val_accuracy: 0.9568\n",
            "Epoch 21/100\n",
            "\n",
            "Epoch 00021: LearningRateScheduler reducing learning rate to 0.0010000000474974513.\n",
            "18/18 [==============================] - 1s 34ms/step - loss: 0.1561 - accuracy: 0.9646 - val_loss: 0.1217 - val_accuracy: 0.9928\n",
            "Epoch 22/100\n",
            "\n",
            "Epoch 00022: LearningRateScheduler reducing learning rate to 0.0010000000474974513.\n",
            "18/18 [==============================] - 1s 34ms/step - loss: 0.0773 - accuracy: 0.9846 - val_loss: 0.1396 - val_accuracy: 0.9856\n",
            "Epoch 23/100\n",
            "\n",
            "Epoch 00023: LearningRateScheduler reducing learning rate to 0.0010000000474974513.\n",
            "18/18 [==============================] - 1s 34ms/step - loss: 0.0683 - accuracy: 0.9791 - val_loss: 0.1402 - val_accuracy: 0.9928\n",
            "Epoch 24/100\n",
            "\n",
            "Epoch 00024: LearningRateScheduler reducing learning rate to 0.0010000000474974513.\n",
            "18/18 [==============================] - 1s 34ms/step - loss: 0.1116 - accuracy: 0.9743 - val_loss: 0.1986 - val_accuracy: 0.9928\n",
            "Epoch 25/100\n",
            "\n",
            "Epoch 00025: LearningRateScheduler reducing learning rate to 0.0010000000474974513.\n",
            "18/18 [==============================] - 1s 35ms/step - loss: 0.0842 - accuracy: 0.9869 - val_loss: 0.3397 - val_accuracy: 0.9712\n",
            "Epoch 26/100\n",
            "\n",
            "Epoch 00026: LearningRateScheduler reducing learning rate to 0.0010000000474974513.\n",
            "18/18 [==============================] - 1s 34ms/step - loss: 0.1282 - accuracy: 0.9702 - val_loss: 0.2250 - val_accuracy: 0.9928\n",
            "Epoch 27/100\n",
            "\n",
            "Epoch 00027: LearningRateScheduler reducing learning rate to 0.0010000000474974513.\n",
            "18/18 [==============================] - 1s 35ms/step - loss: 0.0824 - accuracy: 0.9826 - val_loss: 0.0879 - val_accuracy: 0.9928\n",
            "Epoch 28/100\n",
            "\n",
            "Epoch 00028: LearningRateScheduler reducing learning rate to 0.0010000000474974513.\n",
            "18/18 [==============================] - 1s 34ms/step - loss: 0.0545 - accuracy: 0.9906 - val_loss: 0.2215 - val_accuracy: 0.9928\n",
            "Epoch 29/100\n",
            "\n",
            "Epoch 00029: LearningRateScheduler reducing learning rate to 0.0010000000474974513.\n",
            "18/18 [==============================] - 1s 34ms/step - loss: 0.0621 - accuracy: 0.9807 - val_loss: 0.2573 - val_accuracy: 0.9928\n",
            "Epoch 30/100\n",
            "\n",
            "Epoch 00030: LearningRateScheduler reducing learning rate to 0.0010000000474974513.\n",
            "18/18 [==============================] - 1s 35ms/step - loss: 0.0485 - accuracy: 0.9853 - val_loss: 0.4237 - val_accuracy: 0.9856\n",
            "Epoch 31/100\n",
            "\n",
            "Epoch 00031: LearningRateScheduler reducing learning rate to 0.0010000000474974513.\n",
            "18/18 [==============================] - 1s 35ms/step - loss: 0.1033 - accuracy: 0.9737 - val_loss: 0.3117 - val_accuracy: 0.9928\n",
            "Epoch 32/100\n",
            "\n",
            "Epoch 00032: LearningRateScheduler reducing learning rate to 0.0010000000474974513.\n",
            "18/18 [==============================] - 1s 34ms/step - loss: 0.0583 - accuracy: 0.9818 - val_loss: 0.1674 - val_accuracy: 0.9928\n",
            "Epoch 33/100\n",
            "\n",
            "Epoch 00033: LearningRateScheduler reducing learning rate to 0.0010000000474974513.\n",
            "18/18 [==============================] - 1s 34ms/step - loss: 0.0361 - accuracy: 0.9929 - val_loss: 0.2194 - val_accuracy: 0.9928\n",
            "Epoch 34/100\n",
            "\n",
            "Epoch 00034: LearningRateScheduler reducing learning rate to 0.0010000000474974513.\n",
            "18/18 [==============================] - 1s 35ms/step - loss: 0.0520 - accuracy: 0.9939 - val_loss: 0.0122 - val_accuracy: 1.0000\n",
            "Epoch 35/100\n",
            "\n",
            "Epoch 00035: LearningRateScheduler reducing learning rate to 0.0010000000474974513.\n",
            "18/18 [==============================] - 1s 34ms/step - loss: 0.0383 - accuracy: 0.9878 - val_loss: 0.1767 - val_accuracy: 0.9928\n",
            "Epoch 36/100\n",
            "\n",
            "Epoch 00036: LearningRateScheduler reducing learning rate to 0.0010000000474974513.\n",
            "18/18 [==============================] - 1s 34ms/step - loss: 0.0346 - accuracy: 0.9939 - val_loss: 0.5886 - val_accuracy: 0.9784\n",
            "Epoch 37/100\n",
            "\n",
            "Epoch 00037: LearningRateScheduler reducing learning rate to 0.0010000000474974513.\n",
            "18/18 [==============================] - 1s 35ms/step - loss: 0.0566 - accuracy: 0.9932 - val_loss: 0.0739 - val_accuracy: 0.9712\n",
            "Epoch 38/100\n",
            "\n",
            "Epoch 00038: LearningRateScheduler reducing learning rate to 0.0010000000474974513.\n",
            "18/18 [==============================] - 1s 34ms/step - loss: 0.1122 - accuracy: 0.9695 - val_loss: 0.0881 - val_accuracy: 0.9784\n",
            "Epoch 39/100\n",
            "\n",
            "Epoch 00039: LearningRateScheduler reducing learning rate to 0.0010000000474974513.\n",
            "18/18 [==============================] - 1s 35ms/step - loss: 0.0385 - accuracy: 0.9827 - val_loss: 0.2127 - val_accuracy: 0.9856\n",
            "Epoch 40/100\n",
            "\n",
            "Epoch 00040: LearningRateScheduler reducing learning rate to 0.0010000000474974513.\n",
            "18/18 [==============================] - 1s 35ms/step - loss: 0.0191 - accuracy: 0.9907 - val_loss: 0.2846 - val_accuracy: 0.9712\n",
            "Epoch 41/100\n",
            "\n",
            "Epoch 00041: LearningRateScheduler reducing learning rate to 0.0010000000474974513.\n",
            "18/18 [==============================] - 1s 34ms/step - loss: 0.0308 - accuracy: 0.9921 - val_loss: 0.3926 - val_accuracy: 0.9928\n",
            "Epoch 42/100\n",
            "\n",
            "Epoch 00042: LearningRateScheduler reducing learning rate to 0.0010000000474974513.\n",
            "18/18 [==============================] - 1s 34ms/step - loss: 0.0157 - accuracy: 0.9925 - val_loss: 0.3826 - val_accuracy: 0.9928\n",
            "Epoch 43/100\n",
            "\n",
            "Epoch 00043: LearningRateScheduler reducing learning rate to 0.0010000000474974513.\n",
            "18/18 [==============================] - 1s 34ms/step - loss: 0.0040 - accuracy: 0.9990 - val_loss: 0.3845 - val_accuracy: 0.9928\n",
            "Epoch 44/100\n",
            "\n",
            "Epoch 00044: LearningRateScheduler reducing learning rate to 0.0010000000474974513.\n",
            "18/18 [==============================] - 1s 34ms/step - loss: 0.0131 - accuracy: 0.9865 - val_loss: 0.4044 - val_accuracy: 0.9928\n",
            "Epoch 45/100\n",
            "\n",
            "Epoch 00045: LearningRateScheduler reducing learning rate to 0.0010000000474974513.\n",
            "18/18 [==============================] - 1s 34ms/step - loss: 0.0144 - accuracy: 0.9844 - val_loss: 0.4380 - val_accuracy: 0.9928\n",
            "Epoch 46/100\n",
            "\n",
            "Epoch 00046: LearningRateScheduler reducing learning rate to 0.0010000000474974513.\n",
            "18/18 [==============================] - 1s 35ms/step - loss: 0.0222 - accuracy: 0.9749 - val_loss: 0.5176 - val_accuracy: 0.9928\n",
            "Epoch 47/100\n",
            "\n",
            "Epoch 00047: LearningRateScheduler reducing learning rate to 0.0010000000474974513.\n",
            "18/18 [==============================] - 1s 33ms/step - loss: 0.0053 - accuracy: 0.9938 - val_loss: 0.5748 - val_accuracy: 0.9856\n",
            "Epoch 48/100\n",
            "\n",
            "Epoch 00048: LearningRateScheduler reducing learning rate to 0.0010000000474974513.\n",
            "18/18 [==============================] - 1s 35ms/step - loss: 0.0031 - accuracy: 0.9977 - val_loss: 0.5489 - val_accuracy: 0.9928\n",
            "Epoch 49/100\n",
            "\n",
            "Epoch 00049: LearningRateScheduler reducing learning rate to 0.0010000000474974513.\n",
            "18/18 [==============================] - 1s 34ms/step - loss: 0.0035 - accuracy: 0.9961 - val_loss: 0.5443 - val_accuracy: 0.9928\n",
            "Epoch 50/100\n",
            "\n",
            "Epoch 00050: LearningRateScheduler reducing learning rate to 0.0010000000474974513.\n",
            "18/18 [==============================] - 1s 34ms/step - loss: 0.0078 - accuracy: 0.9917 - val_loss: 0.4263 - val_accuracy: 0.9928\n",
            "Epoch 51/100\n",
            "\n",
            "Epoch 00051: LearningRateScheduler reducing learning rate to 0.0010000000474974513.\n",
            "18/18 [==============================] - 1s 34ms/step - loss: 0.0056 - accuracy: 0.9957 - val_loss: 0.4856 - val_accuracy: 0.9928\n",
            "Epoch 52/100\n",
            "\n",
            "Epoch 00052: LearningRateScheduler reducing learning rate to 0.0010000000474974513.\n",
            "18/18 [==============================] - 1s 34ms/step - loss: 4.5370e-04 - accuracy: 1.0000 - val_loss: 0.5178 - val_accuracy: 0.9928\n",
            "Epoch 53/100\n",
            "\n",
            "Epoch 00053: LearningRateScheduler reducing learning rate to 0.0010000000474974513.\n",
            "18/18 [==============================] - 1s 35ms/step - loss: 0.0035 - accuracy: 0.9973 - val_loss: 0.5777 - val_accuracy: 0.9856\n",
            "Epoch 54/100\n",
            "\n",
            "Epoch 00054: LearningRateScheduler reducing learning rate to 0.0010000000474974513.\n",
            "18/18 [==============================] - 1s 35ms/step - loss: 0.0109 - accuracy: 0.9958 - val_loss: 0.5733 - val_accuracy: 0.9856\n"
          ],
          "name": "stdout"
        }
      ]
    },
    {
      "cell_type": "code",
      "metadata": {
        "id": "j_-91wZX-bWy"
      },
      "source": [
        "model.save('model.h5')"
      ],
      "execution_count": null,
      "outputs": []
    },
    {
      "cell_type": "code",
      "metadata": {
        "colab": {
          "base_uri": "https://localhost:8080/",
          "height": 541
        },
        "id": "LCBpEsATQS70",
        "outputId": "9fe06b8e-88a6-435d-c703-cd0ca8a7c3b7"
      },
      "source": [
        "history=final.history\n",
        "\n",
        "losses=history['loss']\n",
        "val_losses=history['val_loss']\n",
        "accuracies=history['accuracy']\n",
        "val_accuracies=history['val_accuracy']\n",
        "# plotting the loss and the accuracy\n",
        "plt.xlabel('Epochs')\n",
        "plt.ylabel('Loss')\n",
        "plt.plot(losses)\n",
        "plt.plot(val_losses)\n",
        "plt.legend(['Loss','Val_Losses'])\n",
        "plt.figure()\n",
        "plt.xlabel('Epochs')\n",
        "plt.ylabel('Accuracy')\n",
        "plt.plot(accuracies)\n",
        "plt.plot(val_accuracies)\n",
        "plt.legend(['Accuracy','Val_Accuracy'])\n",
        "plt.show()"
      ],
      "execution_count": null,
      "outputs": [
        {
          "output_type": "display_data",
          "data": {
            "image/png": "[encoded data removed]",
            "text/plain": [
              "<Figure size 432x288 with 1 Axes>"
            ]
          },
          "metadata": {
            "tags": [],
            "needs_background": "light"
          }
        },
        {
          "output_type": "display_data",
          "data": {
            "image/png": "[encoded data removed]",
            "text/plain": [
              "<Figure size 432x288 with 1 Axes>"
            ]
          },
          "metadata": {
            "tags": [],
            "needs_background": "light"
          }
        }
      ]
    },
    {
      "cell_type": "code",
      "metadata": {
        "id": "Bjcjal-0_ncg",
        "colab": {
          "base_uri": "https://localhost:8080/",
          "height": 86
        },
        "outputId": "e07b599b-1263-4cb5-ea5b-ddf98076162b"
      },
      "source": [
        "'''model = keras.Sequential(\n",
        "    [\n",
        "        layers.Input(shape=input_shape),\n",
        "        layers.Conv2D(8,(2,2),padding='same', activation='relu'),\n",
        "        layers.MaxPooling2D(pool_size=(1, 1)),\n",
        "        layers.Conv2D(16,(2,2), activation='relu'),\n",
        "        layers.MaxPooling2D(pool_size=(1, 1)),\n",
        "        layers.Conv2D(8,(2,2), activation='relu'),\n",
        "        layers.MaxPooling2D(pool_size=(1, 1)),\n",
        "        layers.Flatten(),\n",
        "        layers.Dropout(0.5),\n",
        "        layers.Dense(num_classes, activation=\"softmax\"),\n",
        "    ]\n",
        ")'''"
      ],
      "execution_count": null,
      "outputs": [
        {
          "output_type": "execute_result",
          "data": {
            "application/vnd.google.colaboratory.intrinsic+json": {
              "type": "string"
            },
            "text/plain": [
              "'model = keras.Sequential(\\n    [\\n        layers.Input(shape=input_shape),\\n        layers.Conv2D(8,(2,2),padding=\\'same\\', activation=\\'relu\\'),\\n        layers.MaxPooling2D(pool_size=(1, 1)),\\n        layers.Conv2D(16,(2,2), activation=\\'relu\\'),\\n        layers.MaxPooling2D(pool_size=(1, 1)),\\n        layers.Conv2D(8,(2,2), activation=\\'relu\\'),\\n        layers.MaxPooling2D(pool_size=(1, 1)),\\n        layers.Flatten(),\\n        layers.Dropout(0.5),\\n        layers.Dense(num_classes, activation=\"softmax\"),\\n    ]\\n)'"
            ]
          },
          "metadata": {
            "tags": []
          },
          "execution_count": 23
        }
      ]
    },
    {
      "cell_type": "code",
      "metadata": {
        "id": "Vfcc6lG0_pzx",
        "colab": {
          "base_uri": "https://localhost:8080/"
        },
        "outputId": "fc5a9afd-8c95-41d8-d0fd-a5cbe3913da8"
      },
      "source": [
        "model.summary()"
      ],
      "execution_count": null,
      "outputs": [
        {
          "output_type": "stream",
          "text": [
            "Model: \"model\"\n",
            "_________________________________________________________________\n",
            "Layer (type)                 Output Shape              Param #   \n",
            "=================================================================\n",
            "input_2 (InputLayer)         [(None, 150, 150, 3)]     0         \n",
            "_________________________________________________________________\n",
            "conv2d_4 (Conv2D)            (None, 150, 150, 16)      208       \n",
            "_________________________________________________________________\n",
            "conv2d_5 (Conv2D)            (None, 149, 149, 16)      1040      \n",
            "_________________________________________________________________\n",
            "max_pooling2d (MaxPooling2D) (None, 74, 74, 16)        0         \n",
            "_________________________________________________________________\n",
            "dropout (Dropout)            (None, 74, 74, 16)        0         \n",
            "_________________________________________________________________\n",
            "conv2d_6 (Conv2D)            (None, 74, 74, 32)        2080      \n",
            "_________________________________________________________________\n",
            "conv2d_7 (Conv2D)            (None, 73, 73, 32)        4128      \n",
            "_________________________________________________________________\n",
            "max_pooling2d_1 (MaxPooling2 (None, 36, 36, 32)        0         \n",
            "_________________________________________________________________\n",
            "dropout_1 (Dropout)          (None, 36, 36, 32)        0         \n",
            "_________________________________________________________________\n",
            "conv2d_8 (Conv2D)            (None, 36, 36, 64)        8256      \n",
            "_________________________________________________________________\n",
            "conv2d_9 (Conv2D)            (None, 35, 35, 64)        16448     \n",
            "_________________________________________________________________\n",
            "max_pooling2d_2 (MaxPooling2 (None, 17, 17, 64)        0         \n",
            "_________________________________________________________________\n",
            "dropout_2 (Dropout)          (None, 17, 17, 64)        0         \n",
            "_________________________________________________________________\n",
            "conv2d_10 (Conv2D)           (None, 17, 17, 128)       32896     \n",
            "_________________________________________________________________\n",
            "conv2d_11 (Conv2D)           (None, 16, 16, 128)       65664     \n",
            "_________________________________________________________________\n",
            "max_pooling2d_3 (MaxPooling2 (None, 8, 8, 128)         0         \n",
            "_________________________________________________________________\n",
            "flatten (Flatten)            (None, 8192)              0         \n",
            "_________________________________________________________________\n",
            "dense (Dense)                (None, 16)                131088    \n",
            "_________________________________________________________________\n",
            "dropout_3 (Dropout)          (None, 16)                0         \n",
            "_________________________________________________________________\n",
            "dense_1 (Dense)              (None, 8)                 136       \n",
            "_________________________________________________________________\n",
            "dropout_4 (Dropout)          (None, 8)                 0         \n",
            "_________________________________________________________________\n",
            "dense_2 (Dense)              (None, 4)                 36        \n",
            "_________________________________________________________________\n",
            "dropout_5 (Dropout)          (None, 4)                 0         \n",
            "_________________________________________________________________\n",
            "dense_3 (Dense)              (None, 2)                 10        \n",
            "=================================================================\n",
            "Total params: 261,990\n",
            "Trainable params: 261,990\n",
            "Non-trainable params: 0\n",
            "_________________________________________________________________\n"
          ],
          "name": "stdout"
        }
      ]
    },
    {
      "cell_type": "code",
      "metadata": {
        "colab": {
          "base_uri": "https://localhost:8080/"
        },
        "id": "Lgpa9OY8S7Iy",
        "outputId": "a0d9abfb-1abe-4e24-a38a-45e275986cf4"
      },
      "source": [
        "result = np.argmax(model.predict(x_test, verbose=1), axis=1)"
      ],
      "execution_count": null,
      "outputs": [
        {
          "output_type": "stream",
          "text": [
            "10/10 [==============================] - 0s 10ms/step\n"
          ],
          "name": "stdout"
        }
      ]
    },
    {
      "cell_type": "code",
      "metadata": {
        "colab": {
          "base_uri": "https://localhost:8080/"
        },
        "id": "iJamQTFe-J3S",
        "outputId": "82b26b0c-a112-4d5b-a772-fe380980bab4"
      },
      "source": [
        "model.evaluate(x_test, y_test)"
      ],
      "execution_count": null,
      "outputs": [
        {
          "output_type": "stream",
          "text": [
            "10/10 [==============================] - 0s 10ms/step - loss: 0.4071 - accuracy: 0.9967\n"
          ],
          "name": "stdout"
        },
        {
          "output_type": "execute_result",
          "data": {
            "text/plain": [
              "[0.4070989191532135, 0.9966555237770081]"
            ]
          },
          "metadata": {
            "tags": []
          },
          "execution_count": 29
        }
      ]
    },
    {
      "cell_type": "code",
      "metadata": {
        "id": "mCGC-KXWKvag"
      },
      "source": [],
      "execution_count": null,
      "outputs": []
    },
    {
      "cell_type": "markdown",
      "metadata": {
        "id": "pAO-4BhLKvw3"
      },
      "source": [
        "## Classification Report"
      ]
    },
    {
      "cell_type": "code",
      "metadata": {
        "id": "Ts9xMIlKO8xp"
      },
      "source": [
        "from sklearn.metrics import classification_report\n",
        "score = model.evaluate(x_test, y_test, verbose=0)\n",
        "'''print('Test score:', score[0])\n",
        "print('Test accuracy:', score[1])\n",
        "print('Test precision:', score[2])\n",
        "print('Test recall:', score[3])'''\n",
        "\n",
        "# evaluate model with sklearn\n",
        "predictions_last_epoch = model.predict(x_test, verbose=1)\n",
        "target_names = ['class 0(Dirty)', 'class 1(Clean)']\n",
        "\n",
        "y_test_ = np.argmax(y_test, axis=1)\n",
        "\n",
        "predicted_classes = np.argmax(predictions_last_epoch, axis=1)\n",
        "print(predicted_classes)\n",
        "print('\\n')\n",
        "print(classification_report(y_test_, predicted_classes, target_names=target_names))"
      ],
      "execution_count": null,
      "outputs": []
    },
    {
      "cell_type": "code",
      "metadata": {
        "id": "NxnpRHC_he53"
      },
      "source": [],
      "execution_count": null,
      "outputs": []
    },
    {
      "cell_type": "code",
      "metadata": {
        "id": "6oMxBkOlZIdp"
      },
      "source": [],
      "execution_count": null,
      "outputs": []
    },
    {
      "cell_type": "code",
      "metadata": {
        "id": "XAtjgNgKZIfl"
      },
      "source": [],
      "execution_count": null,
      "outputs": []
    },
    {
      "cell_type": "markdown",
      "metadata": {
        "id": "XPsRM3dKIXbV"
      },
      "source": [
        "# XGBoost"
      ]
    },
    {
      "cell_type": "code",
      "metadata": {
        "id": "hvD4AW8O-wZv"
      },
      "source": [
        "import numpy as np \n",
        "import matplotlib.pyplot as plt\n",
        "import glob\n",
        "import cv2\n",
        "\n",
        "from keras.models import Model, Sequential\n",
        "from keras.layers import Dense, Flatten, Conv2D, MaxPooling2D\n",
        "from keras.layers.normalization import BatchNormalization\n",
        "import os\n",
        "import seaborn as sns\n",
        "from keras.applications.vgg16 import VGG16\n",
        "\n",
        "\n",
        "SIZE = 150  #Resize images\n",
        "\n",
        "\n",
        "#Convert lists to arrays        \n",
        "train_images = dataset[:800]\n",
        "train_labels = label[:800]\n",
        "\n",
        "\n",
        "#Convert lists to arrays                \n",
        "test_images = dataset[800:]\n",
        "test_labels = label[800:]\n",
        "\n",
        "#Encode labels from text to integers.\n",
        "from sklearn import preprocessing\n",
        "le = preprocessing.LabelEncoder()\n",
        "le.fit(test_labels)\n",
        "test_labels_encoded = le.transform(test_labels)\n",
        "le.fit(train_labels)\n",
        "train_labels_encoded = le.transform(train_labels)\n",
        "\n",
        "#Split data into test and train datasets (already split but assigning to meaningful convention)\n",
        "x_train, y_train, x_test, y_test = train_images, train_labels_encoded, test_images, test_labels_encoded\n",
        "\n",
        "###################################################################\n",
        "# Normalize pixel values to between 0 and 1\n",
        "x_train, x_test = x_train / 255.0, x_test / 255.0\n",
        "\n",
        "#One hot encode y values for neural network. \n",
        "# from keras.utils import to_categorical\n",
        "# y_train_one_hot = to_categorical(y_train)\n",
        "# y_test_one_hot = to_categorical(y_test)\n",
        "\n",
        "#############################\n",
        "#Load model wothout classifier/fully connected layers\n",
        "VGG_model = VGG16(weights='imagenet', include_top=False, input_shape=(SIZE, SIZE, 3))\n",
        "\n",
        "#Make loaded layers as non-trainable. This is important as we want to work with pre-trained weights\n",
        "for layer in VGG_model.layers:\n",
        "\tlayer.trainable = False\n",
        "    \n",
        "VGG_model.summary()  #Trainable parameters will be 0\n",
        "\n",
        "\n",
        "#Now, let us use features from convolutional network for RF\n",
        "feature_extractor=VGG_model.predict(x_train)\n",
        "\n",
        "features = feature_extractor.reshape(feature_extractor.shape[0], -1)\n",
        "\n",
        "X_for_training = features #This is our X input to RF\n",
        "\n",
        "#RANDOM FOREST\n",
        "#from sklearn.ensemble import RandomForestClassifier\n",
        "#model = RandomForestClassifier(n_estimators = 50, random_state = 42)\n",
        "\n",
        "# Train the model on training data\n",
        "\n",
        "\n",
        "#XGBOOST\n",
        "import xgboost as xgb\n",
        "model = xgb.XGBClassifier()\n",
        "model.fit(X_for_training, y_train) #For sklearn no one hot encoding\n",
        "\n",
        "#Send test data through same feature extractor process\n",
        "X_test_feature = VGG_model.predict(x_test)\n",
        "X_test_features = X_test_feature.reshape(X_test_feature.shape[0], -1)\n",
        "\n",
        "#Now predict using the trained RF model. \n",
        "prediction = model.predict(X_test_features)\n",
        "#Inverse le transform to get original label back. \n",
        "prediction = le.inverse_transform(prediction)\n",
        "\n",
        "#Print overall accuracy\n",
        "from sklearn import metrics\n",
        "print (\"Accuracy = \", metrics.accuracy_score(test_labels, prediction))\n",
        "\n",
        "#Confusion Matrix - verify accuracy of each class\n",
        "from sklearn.metrics import confusion_matrix\n",
        "\n",
        "cm = confusion_matrix(test_labels, prediction)\n",
        "#print(cm)\n",
        "sns.heatmap(cm, annot=True)\n",
        "\n",
        "#Check results on a few select images\n",
        "n=np.random.randint(0, x_test.shape[0])\n",
        "img = x_test[n]\n",
        "plt.imshow(img)\n",
        "input_img = np.expand_dims(img, axis=0) #Expand dims so the input is (num images, x, y, c)\n",
        "input_img_feature=VGG_model.predict(input_img)\n",
        "input_img_features=input_img_feature.reshape(input_img_feature.shape[0], -1)\n",
        "prediction = model.predict(input_img_features)[0] \n",
        "prediction = le.inverse_transform([prediction])  #Reverse the label encoder to original name\n",
        "print(\"The prediction for this image is: \", prediction)\n",
        "print(\"The actual label for this image is: \", test_labels[n])"
      ],
      "execution_count": null,
      "outputs": []
    },
    {
      "cell_type": "code",
      "metadata": {
        "id": "vxVQRpfWCUHK"
      },
      "source": [
        "# saving XGBoost model\n",
        "model.save_model('XGBoost_EcoFilter.json')"
      ],
      "execution_count": null,
      "outputs": []
    },
    {
      "cell_type": "code",
      "metadata": {
        "id": "wDdMwwvFCUKF"
      },
      "source": [
        "# loading XGBoost model\n",
        "xgb_model_latest = xgb.XGBClassifier()\n",
        "\n",
        "xgb_model_latest.load_model(\"XGBoost_EcoFilter.json\")"
      ],
      "execution_count": null,
      "outputs": []
    },
    {
      "cell_type": "code",
      "metadata": {
        "id": "L922tqW6CUSa"
      },
      "source": [],
      "execution_count": null,
      "outputs": []
    },
    {
      "cell_type": "code",
      "metadata": {
        "id": "V6C7i7K-QXYt"
      },
      "source": [],
      "execution_count": null,
      "outputs": []
    },
    {
      "cell_type": "code",
      "metadata": {
        "id": "VAIDxkohQXdY"
      },
      "source": [],
      "execution_count": null,
      "outputs": []
    },
    {
      "cell_type": "code",
      "metadata": {
        "id": "9TSIt7pbQXrT"
      },
      "source": [],
      "execution_count": null,
      "outputs": []
    },
    {
      "cell_type": "markdown",
      "metadata": {
        "id": "ar74j29vnlQH"
      },
      "source": [
        "## **Image Registration**"
      ]
    },
    {
      "cell_type": "code",
      "metadata": {
        "id": "bgi3ffXbQXuf"
      },
      "source": [
        "import numpy as np\n",
        "import matplotlib.pyplot as plt\n",
        "\n",
        "from skimage import data, io\n",
        "from skimage.feature import register_translation\n",
        "from skimage.feature.register_translation import _upsampled_dft\n",
        "from scipy.ndimage import fourier_shift\n",
        "\n",
        "image = Dirty2[0]\n",
        "offset_image = Dirty1[0]\n",
        "# offset image translated by (-17.45, 18.75) in y and x \n",
        "\n",
        "# subpixel precision\n",
        "#Upsample factor 100 = images will be registered to within 1/100th of a pixel.\n",
        "#Default is 1 which means no upsampling.  \n",
        "shifted, error, diffphase = register_translation(image, offset_image, 100)\n",
        "print(f\"Detected subpixel offset (y, x): {shifted}\")\n",
        "\n",
        "from scipy.ndimage import shift\n",
        "corrected_image = shift(offset_image, shift=(shifted[0], shifted[1], 0), mode='constant')\n",
        "#plt.imshow(corrected_image)\n",
        "cv2.imwrite('shifted.jpg',corrected_image)\n",
        "fig = plt.figure(figsize=(10, 10))\n",
        "ax1 = fig.add_subplot(2,2,1)\n",
        "ax1.imshow(image, cmap='gray')\n",
        "ax1.title.set_text('Input Image')\n",
        "ax2 = fig.add_subplot(2,2,2)\n",
        "ax2.imshow(offset_image, cmap='gray')\n",
        "ax2.title.set_text('Offset image')\n",
        "ax3 = fig.add_subplot(2,2,3)\n",
        "ax3.imshow(corrected_image, cmap='gray')\n",
        "ax3.title.set_text('Corrected')\n",
        "plt.show()"
      ],
      "execution_count": null,
      "outputs": []
    },
    {
      "cell_type": "code",
      "metadata": {
        "id": "Y-s7bZMwQXwk"
      },
      "source": [],
      "execution_count": null,
      "outputs": []
    },
    {
      "cell_type": "code",
      "metadata": {
        "id": "LBogwtbiQXzR"
      },
      "source": [],
      "execution_count": null,
      "outputs": []
    },
    {
      "cell_type": "code",
      "metadata": {
        "id": "gVoJj5fvQX1U"
      },
      "source": [],
      "execution_count": null,
      "outputs": []
    },
    {
      "cell_type": "markdown",
      "metadata": {
        "id": "ZImP3y2Fns8Q"
      },
      "source": [
        "## **Calculate MSE & SSIM**"
      ]
    },
    {
      "cell_type": "code",
      "metadata": {
        "id": "mU-pz0bcAoum"
      },
      "source": [
        "# USAGE\n",
        "# python compare.py\n",
        "\n",
        "# import the necessary packages\n",
        "from skimage import measure\n",
        "import matplotlib.pyplot as plt\n",
        "import numpy as np\n",
        "import cv2\n",
        "\n",
        "def mse(imageA, imageB):\n",
        "\t# the 'Mean Squared Error' between the two images is the\n",
        "\t# sum of the squared difference between the two images;\n",
        "\t# NOTE: the two images must have the same dimension\n",
        "\terr = np.sum((imageA.astype(\"float\") - imageB.astype(\"float\")) ** 2)\n",
        "\terr /= float(imageA.shape[0] * imageA.shape[1])\n",
        "\t\n",
        "\t# return the MSE, the lower the error, the more \"similar\"\n",
        "\t# the two images are\n",
        "\treturn err\n",
        "\n",
        "def compare_images(imageA, imageB, title):\n",
        "\t# compute the mean squared error and structural similarity\n",
        "\t# index for the images\n",
        "\tm = mse(imageA, imageB)\n",
        "\ts = measure.compare_ssim(imageA, imageB, multichannel=True)\n",
        "\n",
        "\t# setup the figure\n",
        "\tfig = plt.figure(title)\n",
        "\tplt.suptitle(\"MSE: %.2f, SSIM: %.2f\" % (m, s))\n",
        "\n",
        "\t# show first image\n",
        "\tax = fig.add_subplot(1, 2, 1)\n",
        "\tplt.imshow(imageA, cmap = plt.cm.gray)\n",
        "\tplt.axis(\"off\")\n",
        "\n",
        "\t# show the second image\n",
        "\tax = fig.add_subplot(1, 2, 2)\n",
        "\tplt.imshow(imageB, cmap = plt.cm.gray)\n",
        "\tplt.axis(\"off\")\n",
        "\n",
        "\t# show the images\n",
        "\tplt.show()\n",
        "\n",
        "# load the images -- the original, the original + contrast,\n",
        "# and the original + photoshop\n",
        "original = cv2.imread(\"shifted.jpg\")\n",
        "contrast = Dirty2[0]\n",
        "#shopped = Dirty0[0]\n",
        "\n",
        "# convert the images to grayscale\n",
        "#original = cv2.cvtColor(original, cv2.COLOR_BGR2GRAY)\n",
        "#contrast = cv2.cvtColor(contrast, cv2.COLOR_BGR2GRAY)\n",
        "#shopped = cv2.cvtColor(shopped, cv2.COLOR_BGR2GRAY)\n",
        "\n",
        "# initialize the figure\n",
        "fig = plt.figure(\"Images\")\n",
        "images = (\"Original\", original), (\"Contrast\", contrast)\n",
        "\n",
        "# loop over the images\n",
        "for (i, (name, image)) in enumerate(images):\n",
        "\t# show the image\n",
        "\tax = fig.add_subplot(1, 2, i + 1)\n",
        "\tax.set_title(name)\n",
        "\tplt.imshow(image, cmap = plt.cm.gray)\n",
        "\tplt.axis(\"off\")\n",
        "\n",
        "# show the figure\n",
        "plt.show()\n",
        "\n",
        "# compare the images\n",
        "#compare_images(original, original, \"Original vs. Original\")\n",
        "compare_images(original, contrast, \"Original vs. Contrast\")\n",
        "#compare_images(original, shopped, \"Original vs. Photoshopped\")"
      ],
      "execution_count": null,
      "outputs": []
    },
    {
      "cell_type": "code",
      "metadata": {
        "id": "-X9CVLLsAoxl"
      },
      "source": [],
      "execution_count": null,
      "outputs": []
    },
    {
      "cell_type": "code",
      "metadata": {
        "id": "Ae8s7U6iAo0E"
      },
      "source": [],
      "execution_count": null,
      "outputs": []
    },
    {
      "cell_type": "code",
      "metadata": {
        "id": "EHzSz68JCUWr"
      },
      "source": [],
      "execution_count": null,
      "outputs": []
    },
    {
      "cell_type": "code",
      "metadata": {
        "id": "N1Q0GnIGCUZN"
      },
      "source": [],
      "execution_count": null,
      "outputs": []
    }
  ]
}